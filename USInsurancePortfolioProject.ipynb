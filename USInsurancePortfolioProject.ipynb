{
 "cells": [
  {
   "cell_type": "markdown",
   "id": "b8bc0805",
   "metadata": {},
   "source": [
    "# *U.S. Medical Insurance Data Portfolio Project*\n"
   ]
  },
  {
   "cell_type": "markdown",
   "id": "e9cfd287",
   "metadata": {},
   "source": [
    "This project completes the first Data Science Foundations module in the CodeCademy Data Scientist:Machine Learning Career Path\n",
    "\n",
    "\n",
    "----------------------------------------------------------------------------"
   ]
  },
  {
   "cell_type": "markdown",
   "id": "f7a8dac2",
   "metadata": {},
   "source": [
    "## Finding the scope of the project\n",
    "\n",
    "### For this project, we are given a csv file containing medical insurance information for numerous individuals. After viewing the file, this is what I can observe:\n",
    "+ There are seven columns, with the following headings:\n",
    "    - age\n",
    "    - sex\n",
    "    - bmi\n",
    "    - children\n",
    "    - smoker\n",
    "    - region\n",
    "    - charges\n",
    "+ There are 1338 entries\n",
    "+ datatypes appear to be strings, integers, and floats\n",
    "\n",
    "### Here are some things I would like to determine before moving forward with any analysis:\n",
    "+ What is the range in age?\n",
    "+ What is the ratio of women:men?\n",
    "+ What are the median and average BMIs?\n",
    "+ What is the median and average number of children?\n",
    "+ What is the ratio of smokers:non-smokers?\n",
    "+ How many regions are there, and what are they? Do any dominate/what is the ratio of each to the whole?\n",
    "+ What is the range of charges?"
   ]
  },
  {
   "cell_type": "code",
   "execution_count": null,
   "id": "eac3497a",
   "metadata": {},
   "outputs": [],
   "source": []
  }
 ],
 "metadata": {
  "kernelspec": {
   "display_name": "Python 3 (ipykernel)",
   "language": "python",
   "name": "python3"
  },
  "language_info": {
   "codemirror_mode": {
    "name": "ipython",
    "version": 3
   },
   "file_extension": ".py",
   "mimetype": "text/x-python",
   "name": "python",
   "nbconvert_exporter": "python",
   "pygments_lexer": "ipython3",
   "version": "3.10.11"
  }
 },
 "nbformat": 4,
 "nbformat_minor": 5
}
