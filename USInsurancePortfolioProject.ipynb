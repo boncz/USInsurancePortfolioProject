{
 "cells": [
  {
   "cell_type": "markdown",
   "id": "b8bc0805",
   "metadata": {},
   "source": [
    "# *U.S. Medical Insurance Data Portfolio Project*\n"
   ]
  },
  {
   "cell_type": "markdown",
   "id": "e9cfd287",
   "metadata": {},
   "source": [
    "This project completes the first Data Science Foundations module in the CodeCademy Data Scientist:Machine Learning Career Path\n",
    "\n",
    "\n",
    "----------------------------------------------------------------------------"
   ]
  },
  {
   "cell_type": "markdown",
   "id": "f7a8dac2",
   "metadata": {},
   "source": [
    "## Finding the scope of the project\n",
    "\n",
    "### For this project, we are given a csv file containing medical insurance information for numerous individuals. After viewing the file, this is what I can observe:\n",
    "+ There are seven columns, with the following headings:\n",
    "    - age\n",
    "    - sex\n",
    "    - bmi\n",
    "    - children\n",
    "    - smoker\n",
    "    - region\n",
    "    - charges\n",
    "+ There are 1338 entries\n",
    "+ datatypes appear to be strings, integers, and floats\n",
    "\n",
    "### Here are some things I would like to determine before moving forward with any analysis:\n",
    "+ What is the range in age?\n",
    "+ What is the ratio of women:men?\n",
    "+ What are the median and average BMIs?\n",
    "+ What is the median and average number of children?\n",
    "+ What is the ratio of smokers:non-smokers?\n",
    "+ How many regions are there, and what are they? Do any dominate/what is the ratio of each to the whole?\n",
    "+ What is the range of charges?"
   ]
  },
  {
   "cell_type": "code",
   "execution_count": 29,
   "id": "0af59503",
   "metadata": {},
   "outputs": [],
   "source": [
    "import csv\n",
    "import statistics"
   ]
  },
  {
   "cell_type": "markdown",
   "id": "98a272d9",
   "metadata": {},
   "source": [
    "I'll begin by separating the columns into lists to more easily analyze the entries."
   ]
  },
  {
   "cell_type": "code",
   "execution_count": 30,
   "id": "e3fdf0a7",
   "metadata": {},
   "outputs": [],
   "source": [
    "with open(\"insurance.csv\") as file:\n",
    "    insurance_data = csv.DictReader(file)\n",
    "    ages = []\n",
    "    sex = []\n",
    "    bmi = []\n",
    "    children = []\n",
    "    smoker = []\n",
    "    region = []\n",
    "    charges = []\n",
    "    for item in insurance_data:\n",
    "        ages.append(int(item[\"age\"]))\n",
    "        sex.append(item[\"sex\"])\n",
    "        bmi.append(item[\"bmi\"])\n",
    "        children.append(item[\"children\"])\n",
    "        smoker.append(item[\"smoker\"])\n",
    "        region.append(item[\"region\"])\n",
    "        charges.append(item[\"charges\"])\n"
   ]
  },
  {
   "cell_type": "code",
   "execution_count": 38,
   "id": "9b618e28",
   "metadata": {},
   "outputs": [
    {
     "name": "stdout",
     "output_type": "stream",
     "text": [
      "[18]\n",
      "The age range for this data set is 18 to 64. \n",
      "The average age is 39 and the most common age is [18].\n"
     ]
    }
   ],
   "source": [
    "min_age = min(ages)\n",
    "max_age = max(ages)\n",
    "mean_age = int(statistics.mean(ages))\n",
    "mode_age = statistics.mode(ages)\n",
    "print(f\"The age range for this data set is {min_age} to {max_age}. \\nThe average age is {mean_age} and the most common age is {mode_age}.\")"
   ]
  },
  {
   "cell_type": "code",
   "execution_count": 36,
   "id": "13683d2a",
   "metadata": {},
   "outputs": [
    {
     "name": "stdout",
     "output_type": "stream",
     "text": [
      "69\n"
     ]
    }
   ],
   "source": [
    "print(ages.count(18)) #checking to see how many entries are with age 18. "
   ]
  },
  {
   "cell_type": "code",
   "execution_count": 46,
   "id": "f8d09f7c",
   "metadata": {},
   "outputs": [
    {
     "name": "stdout",
     "output_type": "stream",
     "text": [
      "The percent of the total data that are 18 year olds is 5.16%.\n"
     ]
    }
   ],
   "source": [
    "mode_percent = round((69/1338)*100,2)\n",
    "print(f\"The percent of the total data that are 18 year olds is {mode_percent}%.\")"
   ]
  },
  {
   "cell_type": "code",
   "execution_count": null,
   "id": "a7497a7e",
   "metadata": {},
   "outputs": [],
   "source": []
  }
 ],
 "metadata": {
  "kernelspec": {
   "display_name": "Python 3 (ipykernel)",
   "language": "python",
   "name": "python3"
  },
  "language_info": {
   "codemirror_mode": {
    "name": "ipython",
    "version": 3
   },
   "file_extension": ".py",
   "mimetype": "text/x-python",
   "name": "python",
   "nbconvert_exporter": "python",
   "pygments_lexer": "ipython3",
   "version": "3.10.11"
  }
 },
 "nbformat": 4,
 "nbformat_minor": 5
}
