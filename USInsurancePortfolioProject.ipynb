{
 "cells": [
  {
   "cell_type": "markdown",
   "id": "b8bc0805",
   "metadata": {},
   "source": [
    "# *U.S. Medical Insurance Data Portfolio Project*\n"
   ]
  },
  {
   "cell_type": "markdown",
   "id": "e9cfd287",
   "metadata": {},
   "source": [
    "This project completes the first Data Science Foundations module in the CodeCademy Data Scientist:Machine Learning Career Path\n",
    "\n",
    "\n",
    "----------------------------------------------------------------------------"
   ]
  },
  {
   "cell_type": "markdown",
   "id": "f7a8dac2",
   "metadata": {},
   "source": [
    "## Finding the scope of the project\n",
    "\n",
    "### For this project, we are given a csv file containing medical insurance information for numerous individuals. After viewing the file, this is what I can observe:\n",
    "+ There are seven columns, with the following headings:\n",
    "    - age\n",
    "    - sex\n",
    "    - bmi\n",
    "    - children\n",
    "    - smoker\n",
    "    - region\n",
    "    - charges\n",
    "+ There are 1338 entries\n",
    "+ Though datatypes should be strings, integers, or floats, all entries are in string format.\n",
    "\n",
    "### Here are some things I would like to determine before moving forward with any analysis:\n",
    "+ What is the range in age?\n",
    "+ What is the ratio of women:men?\n",
    "+ What are the median and average BMIs?\n",
    "+ What is the median and average number of children?\n",
    "+ What is the ratio of smokers:non-smokers?\n",
    "+ How many regions are there, and what are they? Do any dominate/what is the ratio of each to the whole?\n",
    "+ What is the range of charges?"
   ]
  },
  {
   "cell_type": "code",
   "execution_count": 111,
   "id": "429fdc51",
   "metadata": {},
   "outputs": [],
   "source": [
    "import csv\n",
    "import statistics"
   ]
  },
  {
   "cell_type": "markdown",
   "id": "7f34f873",
   "metadata": {},
   "source": [
    "I'll begin by separating the columns into lists to more easily analyze the entries."
   ]
  },
  {
   "cell_type": "code",
   "execution_count": 112,
   "id": "d0a0907a",
   "metadata": {},
   "outputs": [],
   "source": [
    "with open(\"insurance.csv\") as file:\n",
    "    insurance_data = csv.DictReader(file)\n",
    "    ages = []\n",
    "    sex = []\n",
    "    bmi = []\n",
    "    children = []\n",
    "    smoker = []\n",
    "    region = []\n",
    "    charges = []\n",
    "    for item in insurance_data:\n",
    "        ages.append(int(item[\"age\"]))\n",
    "        sex.append(item[\"sex\"])\n",
    "        bmi.append(float(item[\"bmi\"]))\n",
    "        children.append(int(item[\"children\"]))\n",
    "        smoker.append(item[\"smoker\"])\n",
    "        region.append(item[\"region\"])\n",
    "        charges.append(float(item[\"charges\"]))\n"
   ]
  },
  {
   "cell_type": "code",
   "execution_count": 113,
   "id": "02dbb639",
   "metadata": {},
   "outputs": [
    {
     "name": "stdout",
     "output_type": "stream",
     "text": [
      "The age range for this data set is 18 to 64. \n",
      "The average age is 39 and the most common age is 18.\n"
     ]
    }
   ],
   "source": [
    "min_age = min(ages)\n",
    "max_age = max(ages)\n",
    "mean_age = int(statistics.mean(ages))\n",
    "mode_age = statistics.mode(ages)\n",
    "print(f\"The age range for this data set is {min_age} to {max_age}. \\nThe average age is {mean_age} and the most common age is {mode_age}.\")"
   ]
  },
  {
   "cell_type": "code",
   "execution_count": 114,
   "id": "036b33f6",
   "metadata": {},
   "outputs": [
    {
     "name": "stdout",
     "output_type": "stream",
     "text": [
      "69\n"
     ]
    }
   ],
   "source": [
    "print(ages.count(18)) #checking to see how many entries are with age 18. "
   ]
  },
  {
   "cell_type": "code",
   "execution_count": 115,
   "id": "74a6502a",
   "metadata": {},
   "outputs": [
    {
     "name": "stdout",
     "output_type": "stream",
     "text": [
      "The percent of the total data that are 18 year olds is 5.16%.\n"
     ]
    }
   ],
   "source": [
    "mode_percent = round((69/1338)*100,2)\n",
    "print(f\"The percent of the total data that are 18 year olds is {mode_percent}%.\")"
   ]
  },
  {
   "cell_type": "code",
   "execution_count": 116,
   "id": "f3bd0a8b",
   "metadata": {},
   "outputs": [
    {
     "name": "stdout",
     "output_type": "stream",
     "text": [
      "There are 662 women and 676 men in this data set.\n"
     ]
    }
   ],
   "source": [
    "women = sex.count(\"female\")\n",
    "men = sex.count(\"male\")\n",
    "print(f\"There are {women} women and {men} men in this data set.\")"
   ]
  },
  {
   "cell_type": "code",
   "execution_count": 117,
   "id": "e05d312f",
   "metadata": {},
   "outputs": [
    {
     "name": "stdout",
     "output_type": "stream",
     "text": [
      "The BMIs of the data range from 15.96 to 53.13 with an average BMI of 30.66.\n"
     ]
    }
   ],
   "source": [
    "mean_bmi = round(statistics.mean(bmi),2)\n",
    "min_bmi = min(bmi)\n",
    "max_bmi = max(bmi)\n",
    "print(f\"The BMIs of the data range from {min_bmi} to {max_bmi} with an average BMI of {mean_bmi}.\")"
   ]
  },
  {
   "cell_type": "code",
   "execution_count": 118,
   "id": "bf069712",
   "metadata": {},
   "outputs": [
    {
     "name": "stdout",
     "output_type": "stream",
     "text": [
      "1\n",
      "[0]\n",
      "5 574\n",
      "43.0\n"
     ]
    }
   ],
   "source": [
    "mean_children = int(statistics.mean(children))\n",
    "mode_children = statistics.multimode(children)\n",
    "max_children = max(children)\n",
    "no_children = children.count(0)\n",
    "percent_no_children = round(no_children/len(children),2)*100\n",
    "print(mean_children)\n",
    "print(mode_children)\n",
    "print(max_children, no_children)\n",
    "print(percent_no_children)"
   ]
  },
  {
   "cell_type": "code",
   "execution_count": 119,
   "id": "95125dbe",
   "metadata": {},
   "outputs": [
    {
     "name": "stdout",
     "output_type": "stream",
     "text": [
      "The percentage of smokers in the data set is 20.0%, and non-smokers is 80.0%.\n"
     ]
    }
   ],
   "source": [
    "smokers = smoker.count(\"yes\")\n",
    "non_smokers = smoker.count(\"no\")\n",
    "percent_smoker = round(smokers/len(smoker),2)*100\n",
    "percent_non_smoker = round(non_smokers/len(smoker),2)*100\n",
    "print(f\"The percentage of smokers in the data set is {percent_smoker}%, and non-smokers is {percent_non_smoker}%.\")"
   ]
  },
  {
   "cell_type": "code",
   "execution_count": 120,
   "id": "5556535c",
   "metadata": {},
   "outputs": [
    {
     "name": "stdout",
     "output_type": "stream",
     "text": [
      "There are four regions; 325 in the NW, 324 in the NE, 325 in the SW, and 364 in the SE.\n"
     ]
    }
   ],
   "source": [
    "northwest = region.count(\"northwest\")\n",
    "northeast = region.count(\"northeast\")\n",
    "southwest = region.count(\"southwest\")\n",
    "southeast = region.count(\"southeast\")\n",
    "print(f\"There are four regions; {northwest} in the NW, {northeast} in the NE, {southwest} in the SW, and {southeast} in the SE.\")"
   ]
  },
  {
   "cell_type": "code",
   "execution_count": 121,
   "id": "9c63a347",
   "metadata": {},
   "outputs": [
    {
     "name": "stdout",
     "output_type": "stream",
     "text": [
      "In the dataset, the lowest charge is 1121.87, the highest is 63770.43, and the average charge is 13270.42.\n"
     ]
    }
   ],
   "source": [
    "min_charge = round(min(charges),2)\n",
    "max_charge = round(max(charges),2)\n",
    "avg_charge = round(statistics.mean(charges),2)\n",
    "print(f\"In the dataset, the lowest charge is {min_charge}, the highest is {max_charge}, and the average charge is {avg_charge}.\")"
   ]
  }
 ],
 "metadata": {
  "kernelspec": {
   "display_name": "Python 3 (ipykernel)",
   "language": "python",
   "name": "python3"
  },
  "language_info": {
   "codemirror_mode": {
    "name": "ipython",
    "version": 3
   },
   "file_extension": ".py",
   "mimetype": "text/x-python",
   "name": "python",
   "nbconvert_exporter": "python",
   "pygments_lexer": "ipython3",
   "version": "3.10.11"
  }
 },
 "nbformat": 4,
 "nbformat_minor": 5
}
